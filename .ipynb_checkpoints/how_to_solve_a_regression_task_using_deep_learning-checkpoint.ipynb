{
 "cells": [
  {
   "cell_type": "markdown",
   "metadata": {},
   "source": [
    "### Задачи регрессии\n",
    "\n",
    "Регрессия - это когда вы прогнозируете непрерывные данные. Классификация прогнозирует дискретные данные(классы). Мы будем исходя из данных бухгалтерского учета прогнозировать капитализацию компании. То есть мы научимся вычисляться стоимость так, как это делают участники рынка в настоящий момент.\n",
    "\n",
    "Датасет доступен [здесь](https://github.com/andreiliphd/reinforcement-content/blob/master/datasets/csv/equities.csv)."
   ]
  },
  {
   "cell_type": "markdown",
   "metadata": {},
   "source": [
    "### Этапы решения задачи\n",
    "\n",
    "1. Загрузка и аугментация данных.\n",
    "2. Декларирование модели.\n",
    "3. Инстанциирование модели.\n",
    "4. Инстанциирование функции потерь(лосс).\n",
    "5. Инстанциирование оптимизатора.\n",
    "6. Создание тренировочной петли(лупа).\n"
   ]
  },
  {
   "cell_type": "markdown",
   "metadata": {},
   "source": [
    "### Загрузка и аугментация данных\n",
    "\n",
    "Сначала импортируем необходимые библиотеки."
   ]
  },
  {
   "cell_type": "code",
   "execution_count": 4,
   "metadata": {},
   "outputs": [],
   "source": [
    "import numpy as np\n",
    "import pandas as pd\n",
    "from sklearn.preprocessing import MinMaxScaler\n",
    "from sklearn.model_selection import train_test_split\n",
    "import torch"
   ]
  },
  {
   "cell_type": "markdown",
   "metadata": {},
   "source": [
    "Загружаем данные в `pandas`. `pandas` - это Excel для Python."
   ]
  },
  {
   "cell_type": "code",
   "execution_count": null,
   "metadata": {},
   "outputs": [],
   "source": [
    "data = pd.read_csv('datasets/csv/equities.csv')"
   ]
  },
  {
   "cell_type": "markdown",
   "metadata": {},
   "source": [
    "Нейронные сети не могут работать с отсутствующими или другими словами `NA` данными. Есть несколько механизмов по очистке данных от `NA` и один из них - это заполнить отсутствующие данные нулями, что мы и сделаем."
   ]
  },
  {
   "cell_type": "code",
   "execution_count": 5,
   "metadata": {},
   "outputs": [],
   "source": [
    "data = data.fillna(0)"
   ]
  },
  {
   "cell_type": "markdown",
   "metadata": {},
   "source": [
    "Удалим столбцы, которые нам не нужны в входных данных. Нам не нужные `index`(индекс) и `name` (название компании)."
   ]
  },
  {
   "cell_type": "code",
   "execution_count": 6,
   "metadata": {},
   "outputs": [],
   "source": [
    "data_np = np.array(data.drop(['index', 'name'], axis = 1))"
   ]
  },
  {
   "cell_type": "markdown",
   "metadata": {},
   "source": [
    "Нейронные сети работают хорошо с данными от 0 до 1 или от -1 до 1. Нормализуем данные, чтобы они отвечали данным критериям. Если вы не будете нормализовать данные то не получите хорошего результата, так как числовая стабильность будет очень маленькая."
   ]
  },
  {
   "cell_type": "code",
   "execution_count": null,
   "metadata": {},
   "outputs": [],
   "source": [
    "scaler = MinMaxScaler()\n",
    "data_scaled = scaler.fit_transform(data_np)"
   ]
  },
  {
   "cell_type": "markdown",
   "metadata": {},
   "source": [
    "Выделим входные данные и метки. `x` - это входные данные, то есть столбцы с финансовыми показателями. `y` - это метки, то есть столбцы с капитализацией."
   ]
  },
  {
   "cell_type": "code",
   "execution_count": null,
   "metadata": {},
   "outputs": [],
   "source": [
    "y = data_scaled[:, 28]\n",
    "x = data_scaled[:, :28]"
   ]
  },
  {
   "cell_type": "markdown",
   "metadata": {},
   "source": [
    "Разобьем датасет на тренировочный и тестовый. Это делается с целью дальнейшей проверки результатов прогноза."
   ]
  },
  {
   "cell_type": "code",
   "execution_count": null,
   "metadata": {},
   "outputs": [],
   "source": [
    "X_train, X_test, y_train, y_test = train_test_split(x, y, test_size=0.25, random_state=42, shuffle=False)"
   ]
  },
  {
   "cell_type": "markdown",
   "metadata": {},
   "source": [
    "Конвертируем данные в `torch.tensor`."
   ]
  },
  {
   "cell_type": "code",
   "execution_count": null,
   "metadata": {},
   "outputs": [],
   "source": [
    "X_train_torch = torch.from_numpy(X_train).float()\n",
    "X_test_torch = torch.from_numpy(X_test).float()\n",
    "y_train_torch = torch.from_numpy(y_train).float()\n",
    "y_test_torch = torch.from_numpy(y_test).float()"
   ]
  },
  {
   "cell_type": "markdown",
   "metadata": {},
   "source": [
    "### Инстанциирование модели"
   ]
  },
  {
   "cell_type": "markdown",
   "metadata": {},
   "source": [
    "`torch.nn.Sequential` - это стиль Keras создания модели. PyTorch поддерживает такую декларацию модели. Мы просто делаем линейные слои `torch.nn.Linear`(`wx+b`) и `torch.nn.ReLu`."
   ]
  },
  {
   "cell_type": "code",
   "execution_count": 7,
   "metadata": {},
   "outputs": [],
   "source": [
    "model = torch.nn.Sequential(\n",
    "        torch.nn.Linear(28, 100),\n",
    "        torch.nn.ReLU(),\n",
    "        torch.nn.Linear(100, 200),\n",
    "        torch.nn.ReLU(),\n",
    "        torch.nn.Linear(200,100),\n",
    "        torch.nn.ReLU(),\n",
    "        torch.nn.Linear(100, 50),\n",
    "        torch.nn.ReLU(),\n",
    "        torch.nn.Linear(50, 1)\n",
    "        )"
   ]
  },
  {
   "cell_type": "markdown",
   "metadata": {},
   "source": [
    "Если есть видеокарта, то переносим данные на видеокарту для ускорения работы."
   ]
  },
  {
   "cell_type": "code",
   "execution_count": 19,
   "metadata": {},
   "outputs": [],
   "source": [
    "if torch.cuda.is_available():\n",
    "    model = model.cuda()\n",
    "    X_train_torch, y_train_torch = X_train_torch.cuda(), y_train_torch.cuda()"
   ]
  },
  {
   "cell_type": "markdown",
   "metadata": {},
   "source": [
    "### Инстанциирование функции потерь(лосс)\n",
    "\n",
    "Обратите внимание мы используем `torch.nn.MSELoss`, который как раз пригоден для задач регрессии."
   ]
  },
  {
   "cell_type": "code",
   "execution_count": 20,
   "metadata": {},
   "outputs": [],
   "source": [
    "criterion = torch.nn.MSELoss(reduction='sum')"
   ]
  },
  {
   "cell_type": "markdown",
   "metadata": {},
   "source": [
    "### Инстанциирование оптимизатора\n",
    "\n",
    "`torch.optim.Adam` - универсальный оптимизатор, который подходит как для задач регрессии, так и для задач классификации."
   ]
  },
  {
   "cell_type": "code",
   "execution_count": 21,
   "metadata": {},
   "outputs": [],
   "source": [
    "optimizer = torch.optim.Adam(model.parameters(), lr=1e-4)"
   ]
  },
  {
   "cell_type": "markdown",
   "metadata": {},
   "source": [
    "### Создание тренировочной петли(лупа)"
   ]
  },
  {
   "cell_type": "code",
   "execution_count": 22,
   "metadata": {},
   "outputs": [
    {
     "name": "stdout",
     "output_type": "stream",
     "text": [
      "Epoch:  0 Loss:  3.328333616256714\n",
      "Epoch:  1 Loss:  3.3107597827911377\n",
      "Epoch:  2 Loss:  3.293428421020508\n",
      "Epoch:  3 Loss:  3.276254415512085\n",
      "Epoch:  4 Loss:  3.259106159210205\n",
      "Epoch:  5 Loss:  3.242385149002075\n",
      "Epoch:  6 Loss:  3.225233554840088\n",
      "Epoch:  7 Loss:  3.2082576751708984\n",
      "Epoch:  8 Loss:  3.191269636154175\n",
      "Epoch:  9 Loss:  3.174126148223877\n"
     ]
    }
   ],
   "source": [
    "for epoch in range(10):\n",
    "    output = model(X_train_torch)\n",
    "    loss = criterion(output, torch.reshape(y_train_torch, (15,1)))\n",
    "    print('Epoch: ', epoch, 'Loss: ', loss.item())\n",
    "    optimizer.zero_grad()\n",
    "    loss.backward()\n",
    "    optimizer.step()"
   ]
  },
  {
   "cell_type": "markdown",
   "metadata": {},
   "source": [
    "### Обучение\n",
    "\n",
    "Решение регрессионной задачи - это достаточно простая проблема, но регрессии в глубоком обучении применяется во множестве отраслей достаточно широко. Везде, где есть непрерывные данные вы можете применять регрессию. Одна из задач, которую я помогал решать с помощью регрессии - это прогнозирование отказа двигателей на производстве. Мое предложение было попробовать использовать Google Bert, который применяется для NLP, но может быть полезен для установления сложных связей между данными. Я расскажу вам удалось ли воплотить это в жизнь в моем блоге.\n",
    "\n",
    "Записывайтесь на мой [курс](https://reinforcementlearning.ru/uslugi/individualnoe-obuchenie/), где я расскажу все более детально и подробно, а главное простыми словами. Для меня нет глупых вопросов, для меня нет начинающих, для меня есть желающие познать и я помогаю им в этом.\n"
   ]
  },
  {
   "cell_type": "code",
   "execution_count": null,
   "metadata": {},
   "outputs": [],
   "source": []
  }
 ],
 "metadata": {
  "kernelspec": {
   "display_name": "Python 3",
   "language": "python",
   "name": "python3"
  },
  "language_info": {
   "codemirror_mode": {
    "name": "ipython",
    "version": 3
   },
   "file_extension": ".py",
   "mimetype": "text/x-python",
   "name": "python",
   "nbconvert_exporter": "python",
   "pygments_lexer": "ipython3",
   "version": "3.7.5"
  }
 },
 "nbformat": 4,
 "nbformat_minor": 2
}
