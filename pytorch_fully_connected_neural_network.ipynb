{
 "cells": [
  {
   "cell_type": "markdown",
   "metadata": {},
   "source": [
    "### Полностью соединенная нейронная сеть\n",
    "\n",
    "Полностью соединенная нейронная сеть используется как для задач регрессии, так и классификации, но не ограничивается в этом. Вы можете найти линейные(полностью соединенные) слои практически в каждом типe сети. В PyTorch линейный слой представляется классом `torch.nn.Linear`. Обычно нейронная сеть заканчивается `torch.nn.Linear` с функцией активации в последнем слое, отражающая то, что вам нужно на выходе. Вам нужны вероятности, то есть данные от 0 до 1, вы используете функцию активации Sigmoid, представленная `torch.nn.functional.sigmoid`. Если вы делаете мультиклассовую классификацию, то вы можете использовать `torch.nn.Softmax` или `torch.nn.LogSoftmax`. Обычно после каждого линейного слоя есть функция активация `torch.nn.functional.relu`. Вам нужные данные на выходе от -1 до 1, то используйте `torch.nn.functional.tanh`.\n",
    "\n",
    "Этот ноутбук и датасеты доступны в моем Github репозитории:\n",
    "```\n",
    "git clone https://github.com/andreiliphd/reinforcement-content.git\n",
    "```\n",
    "\n",
    "Если нет Git, то его нужно установить.\n",
    "\n",
    "Linux:\n",
    "```\n",
    "sudo apt-get update\n",
    "sudo apt-get install git\n",
    "```\n",
    "\n",
    "Windows: скачайте Git с сайта [git-scm.com](https://git-scm.com/download/win).\n",
    "\n",
    "Если вы нашли ошибку на сайте, ее можно исправить самостоятельно сделав Pull Request в Git."
   ]
  },
  {
   "cell_type": "markdown",
   "metadata": {},
   "source": [
    "### Видео\n",
    "\n"
   ]
  },
  {
   "cell_type": "code",
   "execution_count": 2,
   "metadata": {},
   "outputs": [
    {
     "data": {
      "text/html": [
       "\n",
       "        <iframe\n",
       "            width=\"560\"\n",
       "            height=\"315\"\n",
       "            src=\"https://www.youtube.com/embed/YXdR7ryazmE\"\n",
       "            frameborder=\"0\"\n",
       "            allowfullscreen\n",
       "        ></iframe>\n",
       "        "
      ],
      "text/plain": [
       "<IPython.lib.display.IFrame at 0x7fc03c1ed290>"
      ]
     },
     "execution_count": 2,
     "metadata": {},
     "output_type": "execute_result"
    }
   ],
   "source": [
    "from IPython.display import IFrame\n",
    "\n",
    "IFrame('https://www.youtube.com/embed/YXdR7ryazmE', width=\"560\", height=\"315\")"
   ]
  },
  {
   "cell_type": "markdown",
   "metadata": {},
   "source": [
    "### Этапы решения задачи\n",
    "\n",
    "1. Загрузка и аугментация данных.\n",
    "2. Декларирование модели.\n",
    "3. Инстанциирование модели.\n",
    "4. Инстанциирование функции потерь(лосс).\n",
    "5. Инстанциирование оптимизатора.\n",
    "6. Создание тренировочной петли(лупа).\n"
   ]
  },
  {
   "cell_type": "markdown",
   "metadata": {},
   "source": [
    "### Загрузка и аугментация данных\n",
    "\n",
    "Сначала импортируем необходимые библиотеки."
   ]
  },
  {
   "cell_type": "code",
   "execution_count": 4,
   "metadata": {},
   "outputs": [],
   "source": [
    "import numpy as np\n",
    "import pandas as pd\n",
    "from sklearn.preprocessing import MinMaxScaler\n",
    "from sklearn.model_selection import train_test_split\n",
    "import torch"
   ]
  },
  {
   "cell_type": "markdown",
   "metadata": {},
   "source": [
    "Загружаем данные в `pandas`. `pandas` - это Excel для Python."
   ]
  },
  {
   "cell_type": "code",
   "execution_count": null,
   "metadata": {},
   "outputs": [],
   "source": [
    "data = pd.read_csv('datasets/csv/equities.csv')"
   ]
  },
  {
   "cell_type": "markdown",
   "metadata": {},
   "source": [
    "Нейронные сети не могут работать с отсутствующими или другими словами `NA` данными. Есть несколько механизмов по очистке данных от `NA` и один из них - это заполнить отсутствующие данные нулями, что мы и сделаем."
   ]
  },
  {
   "cell_type": "code",
   "execution_count": 5,
   "metadata": {},
   "outputs": [],
   "source": [
    "data = data.fillna(0)"
   ]
  },
  {
   "cell_type": "markdown",
   "metadata": {},
   "source": [
    "Удалим столбцы, которые нам не нужны в входных данных. Нам не нужные `index`(индекс) и `name` (название компании)."
   ]
  },
  {
   "cell_type": "code",
   "execution_count": 6,
   "metadata": {},
   "outputs": [],
   "source": [
    "data_np = np.array(data.drop(['index', 'name'], axis = 1))"
   ]
  },
  {
   "cell_type": "markdown",
   "metadata": {},
   "source": [
    "Нейронные сети работают хорошо с данными от 0 до 1 или от -1 до 1. Нормализуем данные, чтобы они отвечали данным критериям. Если вы не будете нормализовать данные то не получите хорошего результата, так как числовая стабильность будет очень маленькая."
   ]
  },
  {
   "cell_type": "code",
   "execution_count": null,
   "metadata": {},
   "outputs": [],
   "source": [
    "scaler = MinMaxScaler()\n",
    "data_scaled = scaler.fit_transform(data_np)"
   ]
  },
  {
   "cell_type": "markdown",
   "metadata": {},
   "source": [
    "Выделим входные данные и метки. `x` - это входные данные, то есть столбцы с финансовыми показателями. `y` - это метки, то есть столбцы с капитализацией."
   ]
  },
  {
   "cell_type": "code",
   "execution_count": null,
   "metadata": {},
   "outputs": [],
   "source": [
    "y = data_scaled[:, 28]\n",
    "x = data_scaled[:, :28]"
   ]
  },
  {
   "cell_type": "markdown",
   "metadata": {},
   "source": [
    "Разобьем датасет на тренировочный и тестовый. Это делается с целью дальнейшей проверки результатов прогноза."
   ]
  },
  {
   "cell_type": "code",
   "execution_count": null,
   "metadata": {},
   "outputs": [],
   "source": [
    "X_train, X_test, y_train, y_test = train_test_split(x, y, test_size=0.25, random_state=42, shuffle=False)"
   ]
  },
  {
   "cell_type": "markdown",
   "metadata": {},
   "source": [
    "Конвертируем данные в `torch.tensor`."
   ]
  },
  {
   "cell_type": "code",
   "execution_count": null,
   "metadata": {},
   "outputs": [],
   "source": [
    "X_train_torch = torch.from_numpy(X_train).float()\n",
    "X_test_torch = torch.from_numpy(X_test).float()\n",
    "y_train_torch = torch.from_numpy(y_train).float()\n",
    "y_test_torch = torch.from_numpy(y_test).float()"
   ]
  },
  {
   "cell_type": "markdown",
   "metadata": {},
   "source": [
    "### Инстанциирование модели"
   ]
  },
  {
   "cell_type": "markdown",
   "metadata": {},
   "source": [
    "`torch.nn.Sequential` - это стиль Keras создания модели. PyTorch поддерживает такую декларацию модели. Мы просто делаем линейные слои `torch.nn.Linear`(`wx+b`) и `torch.nn.ReLu`."
   ]
  },
  {
   "cell_type": "code",
   "execution_count": 7,
   "metadata": {},
   "outputs": [],
   "source": [
    "model = torch.nn.Sequential(\n",
    "        torch.nn.Linear(28, 100),\n",
    "        torch.nn.ReLU(),\n",
    "        torch.nn.Linear(100, 200),\n",
    "        torch.nn.ReLU(),\n",
    "        torch.nn.Linear(200,100),\n",
    "        torch.nn.ReLU(),\n",
    "        torch.nn.Linear(100, 50),\n",
    "        torch.nn.ReLU(),\n",
    "        torch.nn.Linear(50, 1)\n",
    "        )"
   ]
  },
  {
   "cell_type": "markdown",
   "metadata": {},
   "source": [
    "Если есть видеокарта, то переносим данные на видеокарту для ускорения работы."
   ]
  },
  {
   "cell_type": "code",
   "execution_count": 19,
   "metadata": {},
   "outputs": [],
   "source": [
    "if torch.cuda.is_available():\n",
    "    model = model.cuda()\n",
    "    X_train_torch, y_train_torch = X_train_torch.cuda(), y_train_torch.cuda()"
   ]
  },
  {
   "cell_type": "markdown",
   "metadata": {},
   "source": [
    "### Инстанциирование функции потерь(лосс)\n",
    "\n",
    "Обратите внимание мы используем `torch.nn.MSELoss`, который как раз пригоден для задач регрессии."
   ]
  },
  {
   "cell_type": "code",
   "execution_count": 20,
   "metadata": {},
   "outputs": [],
   "source": [
    "criterion = torch.nn.MSELoss(reduction='sum')"
   ]
  },
  {
   "cell_type": "markdown",
   "metadata": {},
   "source": [
    "### Инстанциирование оптимизатора\n",
    "\n",
    "`torch.optim.Adam` - универсальный оптимизатор, который подходит как для задач регрессии, так и для задач классификации."
   ]
  },
  {
   "cell_type": "code",
   "execution_count": 21,
   "metadata": {},
   "outputs": [],
   "source": [
    "optimizer = torch.optim.Adam(model.parameters(), lr=1e-4)"
   ]
  },
  {
   "cell_type": "markdown",
   "metadata": {},
   "source": [
    "### Создание тренировочной петли(лупа)"
   ]
  },
  {
   "cell_type": "code",
   "execution_count": 22,
   "metadata": {},
   "outputs": [
    {
     "name": "stdout",
     "output_type": "stream",
     "text": [
      "Epoch:  0 Loss:  3.328333616256714\n",
      "Epoch:  1 Loss:  3.3107597827911377\n",
      "Epoch:  2 Loss:  3.293428421020508\n",
      "Epoch:  3 Loss:  3.276254415512085\n",
      "Epoch:  4 Loss:  3.259106159210205\n",
      "Epoch:  5 Loss:  3.242385149002075\n",
      "Epoch:  6 Loss:  3.225233554840088\n",
      "Epoch:  7 Loss:  3.2082576751708984\n",
      "Epoch:  8 Loss:  3.191269636154175\n",
      "Epoch:  9 Loss:  3.174126148223877\n"
     ]
    }
   ],
   "source": [
    "for epoch in range(10):\n",
    "    output = model(X_train_torch)\n",
    "    loss = criterion(output, torch.reshape(y_train_torch, (15,1)))\n",
    "    print('Epoch: ', epoch, 'Loss: ', loss.item())\n",
    "    optimizer.zero_grad()\n",
    "    loss.backward()\n",
    "    optimizer.step()"
   ]
  },
  {
   "cell_type": "markdown",
   "metadata": {},
   "source": [
    "### Обучение\n",
    "\n",
    "Итак, после каждого линейного слоя нужна функцию активации для того, чтобы разрушить линейность, но не ставьте `torch.nn.functional.relu` в конце нейронной сети, потому что она не будет обучаться. `torch.nn.functional.relu` должен находиться между слоями. Когда вы ставите в конце нейронной сети функцию активации обратите внимание на инструкцию к функции потерь. Функция потерь может требовать особой функции активации. Если в инструкции не упомянута функция активации на выходе, то ставьте функции активации, которая решает вашу задачу или не ставьте ее вообще. Нейронная сеть работать будет без функции активации в конце и в некоторых случаях будет работать быстрее и лучше.\n",
    "\n",
    "Записывайтесь на мой [курс](https://reinforcementlearning.ru/uslugi/individualnoe-obuchenie/), где я расскажу все более детально и подробно, а главное простыми словами. Для меня нет глупых вопросов, для меня нет начинающих, для меня есть желающие познать и я помогаю им в этом.\n"
   ]
  },
  {
   "cell_type": "code",
   "execution_count": null,
   "metadata": {},
   "outputs": [],
   "source": []
  }
 ],
 "metadata": {
  "kernelspec": {
   "display_name": "Python 3",
   "language": "python",
   "name": "python3"
  },
  "language_info": {
   "codemirror_mode": {
    "name": "ipython",
    "version": 3
   },
   "file_extension": ".py",
   "mimetype": "text/x-python",
   "name": "python",
   "nbconvert_exporter": "python",
   "pygments_lexer": "ipython3",
   "version": "3.7.5"
  }
 },
 "nbformat": 4,
 "nbformat_minor": 2
}
